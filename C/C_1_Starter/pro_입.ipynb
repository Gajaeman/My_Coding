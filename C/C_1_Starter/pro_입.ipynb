{
 "cells": [
  {
   "cell_type": "code",
   "execution_count": null,
   "id": "919a68c4-0281-4aaf-9925-59f6c6d4f609",
   "metadata": {},
   "outputs": [],
   "source": [
    "    #include <stdio.h>\n",
    "    \n",
    "    int solution(int n){\n",
    "        L = []\n",
    "        for x in range(1,n+1):\n",
    "            if n % 2 = 0 : \n",
    "                L.append(x)\n",
    "        return L\n",
    "    }    "
   ]
  }
 ],
 "metadata": {
  "kernelspec": {
   "display_name": "Python 3 (ipykernel)",
   "language": "python",
   "name": "python3"
  },
  "language_info": {
   "codemirror_mode": {
    "name": "ipython",
    "version": 3
   },
   "file_extension": ".py",
   "mimetype": "text/x-python",
   "name": "python",
   "nbconvert_exporter": "python",
   "pygments_lexer": "ipython3",
   "version": "3.12.4"
  }
 },
 "nbformat": 4,
 "nbformat_minor": 5
}
